{
 "cells": [
  {
   "cell_type": "code",
   "execution_count": 239,
   "id": "f50909a2",
   "metadata": {},
   "outputs": [],
   "source": [
    "# import necessary libraries for data processing\n",
    "\n",
    "import pandas as pd\n",
    "import numpy as np"
   ]
  },
  {
   "cell_type": "code",
   "execution_count": 240,
   "id": "30414371",
   "metadata": {},
   "outputs": [],
   "source": [
    "# loading sheets from the excel file input into relevant dataframes\n",
    "\n",
    "cardit_df = pd.read_excel('Sample_Data_from_IODA_v2 (China Post).xlsx', sheet_name='fct_cgo_gls_mail_cardit')\n",
    "master_df = pd.read_excel('Sample_Data_from_IODA_v2 (China Post).xlsx', sheet_name='dim_cgo_cargo_awb_master')\n",
    "event_df = pd.read_excel('Sample_Data_from_IODA_v2 (China Post).xlsx', sheet_name='fct_cgo_mail_cardit_receptacle')"
   ]
  },
  {
   "cell_type": "markdown",
   "id": "44746405",
   "metadata": {},
   "source": [
    "## Cardit Table Data Sanitisation "
   ]
  },
  {
   "cell_type": "code",
   "execution_count": 241,
   "id": "aaead9d6",
   "metadata": {},
   "outputs": [],
   "source": [
    "# Filter post_office field for China Post only \n",
    "cardit_df = cardit_df[cardit_df['post_office'] == 'China Post']\n",
    "\n",
    "# Filter leg_number field for first leg only\n",
    "cardit_df = cardit_df[cardit_df['leg_number'] == 1]"
   ]
  },
  {
   "cell_type": "code",
   "execution_count": 242,
   "id": "b5b89be1",
   "metadata": {},
   "outputs": [],
   "source": [
    "# Removing unecessary fields from cardit_df\n",
    "\n",
    "columns_to_keep_cardit = [\"dim_cgo_cargo_awb_master_sk\", \"receptacle_charge_weight\", \"shipment_origin\", \"shipment_dest\", \"fct_cgo_gls_mail_cardit_sk\"]\n",
    "\n",
    "cardit_df = cardit_df[columns_to_keep_cardit]"
   ]
  },
  {
   "cell_type": "markdown",
   "id": "aeab7a69",
   "metadata": {},
   "source": [
    "## Event Table Data Sanitisation"
   ]
  },
  {
   "cell_type": "code",
   "execution_count": 243,
   "id": "2d1c14b8",
   "metadata": {},
   "outputs": [],
   "source": [
    "# Remove the string \"[Null]\" from the whole table\n",
    "event_df = event_df.replace(\"[Null]\", np.nan)\n",
    "\n",
    "# Remove rows where actual_depart_datetime_local is null (we want the last departure time on EZY post))\n",
    "event_df = event_df[event_df['actual_depart_datetime_local'].notna()]\n",
    "\n",
    "# Convert actual_depart_datetime_local to datetime format (may not be the right data type as \"[Null]\" was replaced with NaN)\n",
    "event_df['actual_depart_datetime_local'] = pd.to_datetime(event_df['actual_depart_datetime_local'], errors='coerce')\n",
    "\n",
    "# Convert actual_depart_datetime_local to datetime format (may not be the right data type as \"[Null]\" was replaced with NaN)\n",
    "event_df['actual_arrive_datetime_local'] = pd.to_datetime(event_df['actual_arrive_datetime_local'], errors='coerce')\n",
    "\n",
    "# Create a new field with the actual_arrive_datetime_local of the last leg_number for each receptalce_id (with respect to duplicated receptacle_id)\n",
    "event_df['Arrive Datetime'] = event_df.groupby('receptacle_id')['actual_arrive_datetime_local'].transform('max')\n",
    "\n",
    "# Filter leg_number field for first leg only\n",
    "event_df = event_df[event_df['leg_number'] == 1]\n",
    "\n",
    "# Keep only rows with the latest actual_depart_datetime_local for each receptacle_id\n",
    "event_df = event_df.loc[\n",
    "    event_df.groupby('receptacle_id')['actual_depart_datetime_local'].idxmax()\n",
    "]"
   ]
  },
  {
   "cell_type": "code",
   "execution_count": 244,
   "id": "ed1b9914",
   "metadata": {},
   "outputs": [],
   "source": [
    "columns_to_keep_event = [\"fct_cgo_gls_mail_cardit_sk\",\n",
    "                   \"carrier_code\", \"flight_number\", \"actual_depart_datetime_local\", \"Arrive Datetime\",\n",
    "                   \"receptacle_id\"]\n",
    "\n",
    "event_df = event_df[columns_to_keep_event]"
   ]
  },
  {
   "cell_type": "markdown",
   "id": "d0d86a2b",
   "metadata": {},
   "source": [
    "## Master Table Data Sanitisation"
   ]
  },
  {
   "cell_type": "code",
   "execution_count": 245,
   "id": "b9d92aed",
   "metadata": {},
   "outputs": [],
   "source": [
    "columns_to_keep_master = [\"dim_cgo_cargo_awb_master_sk\", \"awb_number\"]\n",
    "\n",
    "master_df = master_df[columns_to_keep_master]"
   ]
  },
  {
   "cell_type": "markdown",
   "id": "b73bf106",
   "metadata": {},
   "source": [
    "## Merging Tables"
   ]
  },
  {
   "cell_type": "code",
   "execution_count": 246,
   "id": "d72eed77",
   "metadata": {},
   "outputs": [],
   "source": [
    "# inner join master and cardit on dim_cgo_cargo_awb_master_sk\n",
    "master_inner_cardit_df = master_df.merge(cardit_df, how='inner', on='dim_cgo_cargo_awb_master_sk')"
   ]
  },
  {
   "cell_type": "code",
   "execution_count": 247,
   "id": "3cddde46",
   "metadata": {},
   "outputs": [],
   "source": [
    "# inner join master cardit and event on fct_cgo_gls_mail_cardit_sk\n",
    "master_cardit_inner_event_df = master_inner_cardit_df.merge(event_df, how='inner', on='fct_cgo_gls_mail_cardit_sk')"
   ]
  },
  {
   "cell_type": "markdown",
   "id": "75b892f5",
   "metadata": {},
   "source": [
    "### Post Merge Processing"
   ]
  },
  {
   "cell_type": "code",
   "execution_count": 248,
   "id": "6e1855c4",
   "metadata": {},
   "outputs": [],
   "source": [
    "\"\"\"\n",
    "Rename actual_depart_datetime_local to Depart DateTime\n",
    "OR\n",
    "Splitting actual_depart_datetime_local into Flight Date only and removing the time data\n",
    "\"\"\"\n",
    "\n",
    "# Rename actual_depart_datetime_local to Depart DateTime\n",
    "master_cardit_inner_event_df = master_cardit_inner_event_df.rename(columns={\"actual_depart_datetime_local\": \"Depart Datetime\"})\n",
    "\n",
    "# OR\n",
    "\n",
    "# # Create a new column with just the date\n",
    "# master_cardit_inner_event_df['Flight Date'] = master_cardit_inner_event_df['actual_depart_datetime_local'].dt.date\n",
    "\n",
    "# # Drop the original datetime column\n",
    "# master_cardit_inner_event_df = master_cardit_inner_event_df.drop(columns=['actual_depart_datetime_local'])\n"
   ]
  },
  {
   "cell_type": "code",
   "execution_count": 249,
   "id": "1fe1e4db",
   "metadata": {},
   "outputs": [],
   "source": [
    "\"\"\"\n",
    "Dealing with case where there are multiple different AWB numbers for the same receptacle_id\n",
    "If left unresolved, receptacle_id will not be unique which will cause issues when joining with CNP template\n",
    "Concatenate multiple AWB numbers into a single cell separated by commas where there is only one row for each receptacle_id\n",
    "\"\"\"\n",
    "\n",
    "\n",
    "# Identify duplicated Receptacle IDs\n",
    "duplicated_ids = master_cardit_inner_event_df['receptacle_id'].duplicated(keep=False)\n",
    "\n",
    "# Split into duplicates and non-duplicates\n",
    "duplicates_df = master_cardit_inner_event_df[duplicated_ids]\n",
    "non_duplicates_df = master_cardit_inner_event_df[~duplicated_ids]\n",
    "\n",
    "# Group by Receptacle ID and aggregate\n",
    "grouped_duplicates = duplicates_df.groupby('receptacle_id').agg({\n",
    "    'awb_number': lambda x: ', '.join(sorted(set(x.astype(str)))),\n",
    "    'shipment_origin': 'first',\n",
    "    'shipment_dest': 'first',\n",
    "    'receptacle_charge_weight': 'first',\n",
    "    'carrier_code': 'first',\n",
    "    'flight_number': 'first',\n",
    "    'Depart Datetime': 'first',\n",
    "    'Arrive Datetime': 'first'\n",
    "}).reset_index()\n",
    "\n",
    "# Combine with non-duplicates\n",
    "master_cardit_inner_event_df = pd.concat([non_duplicates_df, grouped_duplicates], ignore_index=True)"
   ]
  },
  {
   "cell_type": "code",
   "execution_count": 250,
   "id": "60336948",
   "metadata": {},
   "outputs": [],
   "source": [
    "# # Removing unnecessary fields that were previously used for merging (keys)\n",
    "# master_cardit_inner_event_df.drop(columns=['dim_cgo_cargo_awb_master_sk', 'fct_cgo_gls_mail_cardit_sk'], inplace=True)"
   ]
  },
  {
   "cell_type": "code",
   "execution_count": 251,
   "id": "16c6afad",
   "metadata": {},
   "outputs": [],
   "source": [
    "# Renaming fields to match CNP Template \n",
    "\n",
    "master_cardit_inner_event_df = master_cardit_inner_event_df.rename(columns={\n",
    "    'awb_number': 'AWB Number',\n",
    "    'receptacle_charge_weight': 'Weight',\n",
    "    'shipment_origin': 'Departure Station',\n",
    "    'shipment_dest': 'Destination',\n",
    "    'carrier_code': 'Airline',\n",
    "    'flight_number': 'Flight Number',\n",
    "    'receptacle_id': 'Receptacle ID'\n",
    "})\n"
   ]
  },
  {
   "cell_type": "markdown",
   "id": "4d1dfb76",
   "metadata": {},
   "source": [
    "## Export"
   ]
  },
  {
   "cell_type": "code",
   "execution_count": 252,
   "id": "e9f47801",
   "metadata": {},
   "outputs": [],
   "source": [
    "# Reordering field names to match the CNP template\n",
    "\n",
    "desired_order = [\n",
    "    \"AWB Number\",\n",
    "    \"Departure Station\",\n",
    "    \"Destination\",\n",
    "    \"Weight\",\n",
    "    \"Airline\",\n",
    "    \"Flight Number\",\n",
    "    \"Depart Datetime\",\n",
    "    \"Arrive Datetime\",\n",
    "    \"Receptacle ID\"\n",
    "]\n",
    "\n",
    "master_cardit_inner_event_df = master_cardit_inner_event_df[desired_order]\n"
   ]
  },
  {
   "cell_type": "code",
   "execution_count": 253,
   "id": "5e2e67aa",
   "metadata": {},
   "outputs": [],
   "source": [
    "# Exporting final table to an excel file \n",
    "\n",
    "master_cardit_inner_event_df.to_excel('master_cardit_inner_event_df.xlsx', index=False)"
   ]
  },
  {
   "cell_type": "code",
   "execution_count": 254,
   "id": "ee759277",
   "metadata": {},
   "outputs": [
    {
     "data": {
      "text/plain": [
       "True"
      ]
     },
     "execution_count": 254,
     "metadata": {},
     "output_type": "execute_result"
    }
   ],
   "source": [
    "master_cardit_inner_event_df['Receptacle ID'].is_unique"
   ]
  },
  {
   "cell_type": "code",
   "execution_count": null,
   "id": "5bbc8ea7",
   "metadata": {},
   "outputs": [],
   "source": []
  }
 ],
 "metadata": {
  "kernelspec": {
   "display_name": "base",
   "language": "python",
   "name": "python3"
  },
  "language_info": {
   "codemirror_mode": {
    "name": "ipython",
    "version": 3
   },
   "file_extension": ".py",
   "mimetype": "text/x-python",
   "name": "python",
   "nbconvert_exporter": "python",
   "pygments_lexer": "ipython3",
   "version": "3.8.3"
  }
 },
 "nbformat": 4,
 "nbformat_minor": 5
}
